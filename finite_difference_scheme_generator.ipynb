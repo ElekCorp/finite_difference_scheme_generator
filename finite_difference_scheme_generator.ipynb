{
 "cells": [
  {
   "cell_type": "code",
   "execution_count": 1,
   "id": "282ede6c",
   "metadata": {},
   "outputs": [],
   "source": [
    "from sympy import Matrix, zeros, factorial, Integer\n",
    "from sympy import init_printing\n",
    "init_printing(use_unicode=False, wrap_line=False)"
   ]
  },
  {
   "cell_type": "markdown",
   "id": "367c57a8",
   "metadata": {},
   "source": [
    "# Build the scheme coefficients\n",
    "number of points $= 2p+1$ \n",
    "\n",
    "indexing $0$ to $+2p$\n",
    "\n",
    "\n",
    "aprroximate $m$th derivative $m<2p+1$\n",
    "\n",
    "at the $k$th point $k\\in [0,2p] \\wedge k\\in \\mathbb{Z}$\n",
    "\n",
    "(to get the matrix coeff just use the Taylor expansion)\n",
    "\n"
   ]
  },
  {
   "cell_type": "code",
   "execution_count": 2,
   "id": "492a838d",
   "metadata": {},
   "outputs": [],
   "source": [
    "def matrix_coef(i,j,p,k):\n",
    "    return Integer(j-k)**i\n",
    "    #return (j-k)**i\n",
    "def init_mat(p,k):\n",
    "    num=2*p+1\n",
    "    A=zeros(num,num)\n",
    "    for i in range(num):\n",
    "        for j in range(num):\n",
    "            A[i,j]=matrix_coef(i,j,p,k)\n",
    "    return A\n",
    "\n",
    "def init_vec(m,p):#m-th derivative\n",
    "    num=2*p+1\n",
    "\n",
    "    b=zeros(num,1)\n",
    "    b[m,0]=factorial(m)\n",
    "    return b\n",
    "\n",
    "\n",
    "def get_coeff_vector(p,m,k):\n",
    "    A=init_mat(p,k)\n",
    "    b=init_vec(m,p)\n",
    "    \n",
    "    x=A.LUsolve(b)\n",
    "    return x\n",
    "\n",
    "def get_coeff_vector2(p,m,k):\n",
    "    A=init_mat(p,k)\n",
    "    b=init_vec(m,p)\n",
    "    \n",
    "    x=A.cholesky_solve(b)    \n",
    "    return x\n",
    "\n",
    "def get_coeff_vector3(p,m,k):\n",
    "    A=init_mat(p,k)\n",
    "    b=init_vec(m,p)\n",
    "    \n",
    "    x=A.QRsolve(b)\n",
    "    return x\n",
    "\n",
    "def get_coeff_vector4(p,m,k):\n",
    "    A=init_mat(p,k)\n",
    "    b=init_vec(m,p)\n",
    "    \n",
    "    x=A.pinv_solve(b)\n",
    "    return x\n",
    "\n",
    "def get_coeff_vector5(p,m,k):\n",
    "    A=init_mat(p,k)\n",
    "    b=init_vec(m,p)\n",
    "    \n",
    "    x=A.LDLsolve(b)\n",
    "    return x\n",
    "\n",
    "def get_coeff_vector6(p,m,k):\n",
    "    A=init_mat(p,k)\n",
    "    b=init_vec(m,p)\n",
    "    \n",
    "    x=A.gauss_jordan_solve(b)\n",
    "    return x\n"
   ]
  },
  {
   "cell_type": "code",
   "execution_count": 3,
   "id": "d848b682",
   "metadata": {},
   "outputs": [],
   "source": [
    "p=2\n",
    "k=p\n",
    "m=2\n",
    "\n",
    "x=get_coeff_vector(p,m,k)"
   ]
  },
  {
   "cell_type": "code",
   "execution_count": 4,
   "id": "8db326f9",
   "metadata": {},
   "outputs": [
    {
     "data": {
      "image/png": "[encoded data removed]",
      "text/latex": [
       "$\\displaystyle \\left[\\begin{matrix}- \\frac{1}{12}\\\\\\frac{4}{3}\\\\- \\frac{5}{2}\\\\\\frac{4}{3}\\\\- \\frac{1}{12}\\end{matrix}\\right]$"
      ],
      "text/plain": [
       "[-1/12]\n",
       "[     ]\n",
       "[ 4/3 ]\n",
       "[     ]\n",
       "[-5/2 ]\n",
       "[     ]\n",
       "[ 4/3 ]\n",
       "[     ]\n",
       "[-1/12]"
      ]
     },
     "execution_count": 4,
     "metadata": {},
     "output_type": "execute_result"
    }
   ],
   "source": [
    "x"
   ]
  },
  {
   "cell_type": "code",
   "execution_count": 5,
   "id": "ac207d05",
   "metadata": {},
   "outputs": [],
   "source": [
    "#%timeit x=get_coeff_vector(p,m,k)"
   ]
  },
  {
   "cell_type": "code",
   "execution_count": 6,
   "id": "3abf47d8",
   "metadata": {},
   "outputs": [
    {
     "name": "stdout",
     "output_type": "stream",
     "text": [
      "10.8 ms ± 69.8 µs per loop (mean ± std. dev. of 7 runs, 100 loops each)\n",
      "17.4 ms ± 144 µs per loop (mean ± std. dev. of 7 runs, 100 loops each)\n",
      "26.8 ms ± 431 µs per loop (mean ± std. dev. of 7 runs, 10 loops each)\n",
      "37.8 ms ± 377 µs per loop (mean ± std. dev. of 7 runs, 10 loops each)\n",
      "51.7 ms ± 444 µs per loop (mean ± std. dev. of 7 runs, 10 loops each)\n",
      "67.6 ms ± 825 µs per loop (mean ± std. dev. of 7 runs, 10 loops each)\n",
      "87.3 ms ± 721 µs per loop (mean ± std. dev. of 7 runs, 10 loops each)\n",
      "116 ms ± 2.56 ms per loop (mean ± std. dev. of 7 runs, 10 loops each)\n",
      "144 ms ± 552 µs per loop (mean ± std. dev. of 7 runs, 10 loops each)\n",
      "178 ms ± 2.17 ms per loop (mean ± std. dev. of 7 runs, 10 loops each)\n",
      "215 ms ± 6.84 ms per loop (mean ± std. dev. of 7 runs, 1 loop each)\n",
      "273 ms ± 2.36 ms per loop (mean ± std. dev. of 7 runs, 1 loop each)\n",
      "324 ms ± 6.83 ms per loop (mean ± std. dev. of 7 runs, 1 loop each)\n",
      "378 ms ± 1.82 ms per loop (mean ± std. dev. of 7 runs, 1 loop each)\n",
      "440 ms ± 5.45 ms per loop (mean ± std. dev. of 7 runs, 1 loop each)\n",
      "508 ms ± 6.52 ms per loop (mean ± std. dev. of 7 runs, 1 loop each)\n"
     ]
    }
   ],
   "source": [
    "min_num=5\n",
    "max_num=20\n",
    "for i in range(min_num,max_num+1):\n",
    "    %timeit x=get_coeff_vector(i,m,k)"
   ]
  },
  {
   "cell_type": "code",
   "execution_count": 7,
   "id": "17e9376c",
   "metadata": {},
   "outputs": [
    {
     "data": {
      "text/plain": [
       "'for i in range(min_num,max_num+1):\\n    %timeit x=get_coeff_vector2(i,m,k)'"
      ]
     },
     "execution_count": 7,
     "metadata": {},
     "output_type": "execute_result"
    }
   ],
   "source": [
    "\"\"\"for i in range(min_num,max_num+1):\n",
    "    %timeit x=get_coeff_vector2(i,m,k)\"\"\""
   ]
  },
  {
   "cell_type": "code",
   "execution_count": 8,
   "id": "e48c551c",
   "metadata": {},
   "outputs": [
    {
     "data": {
      "text/plain": [
       "'for i in range(min_num,max_num+1):\\n    %timeit x=get_coeff_vector3(i,m,k)'"
      ]
     },
     "execution_count": 8,
     "metadata": {},
     "output_type": "execute_result"
    }
   ],
   "source": [
    "\"\"\"for i in range(min_num,max_num+1):\n",
    "    %timeit x=get_coeff_vector3(i,m,k)\"\"\""
   ]
  },
  {
   "cell_type": "code",
   "execution_count": 9,
   "id": "ca4780d4",
   "metadata": {},
   "outputs": [
    {
     "data": {
      "text/plain": [
       "'for i in range(min_num,max_num+1):\\n    %timeit x=get_coeff_vector4(i,m,k)'"
      ]
     },
     "execution_count": 9,
     "metadata": {},
     "output_type": "execute_result"
    }
   ],
   "source": [
    "\"\"\"for i in range(min_num,max_num+1):\n",
    "    %timeit x=get_coeff_vector4(i,m,k)\"\"\""
   ]
  },
  {
   "cell_type": "code",
   "execution_count": 10,
   "id": "66668b20",
   "metadata": {},
   "outputs": [
    {
     "data": {
      "text/plain": [
       "'for i in range(min_num,max_num+1):\\n    %timeit x=get_coeff_vector5(i,m,k)'"
      ]
     },
     "execution_count": 10,
     "metadata": {},
     "output_type": "execute_result"
    }
   ],
   "source": [
    "\"\"\"for i in range(min_num,max_num+1):\n",
    "    %timeit x=get_coeff_vector5(i,m,k)\"\"\""
   ]
  },
  {
   "cell_type": "code",
   "execution_count": 11,
   "id": "68f3eb07",
   "metadata": {},
   "outputs": [
    {
     "data": {
      "text/plain": [
       "'for i in range(min_num,max_num+1):\\n    %timeit x=get_coeff_vector6(i,m,k)'"
      ]
     },
     "execution_count": 11,
     "metadata": {},
     "output_type": "execute_result"
    }
   ],
   "source": [
    "\"\"\"for i in range(min_num,max_num+1):\n",
    "    %timeit x=get_coeff_vector6(i,m,k)\"\"\""
   ]
  },
  {
   "cell_type": "code",
   "execution_count": 12,
   "id": "0e1b22b4",
   "metadata": {},
   "outputs": [
    {
     "data": {
      "image/png": "[encoded data removed]",
      "text/latex": [
       "$\\displaystyle \\left[\\begin{matrix}- \\frac{1}{12}\\\\\\frac{4}{3}\\\\- \\frac{5}{2}\\\\\\frac{4}{3}\\\\- \\frac{1}{12}\\end{matrix}\\right]$"
      ],
      "text/plain": [
       "[-1/12]\n",
       "[     ]\n",
       "[ 4/3 ]\n",
       "[     ]\n",
       "[-5/2 ]\n",
       "[     ]\n",
       "[ 4/3 ]\n",
       "[     ]\n",
       "[-1/12]"
      ]
     },
     "execution_count": 12,
     "metadata": {},
     "output_type": "execute_result"
    }
   ],
   "source": [
    "x"
   ]
  },
  {
   "cell_type": "code",
   "execution_count": 13,
   "id": "bce1b21b",
   "metadata": {},
   "outputs": [
    {
     "name": "stdout",
     "output_type": "stream",
     "text": [
      "Matrix([[-1/12], [4/3], [-5/2], [4/3], [-1/12]])\n"
     ]
    }
   ],
   "source": [
    "print(x)"
   ]
  },
  {
   "cell_type": "markdown",
   "id": "4b4e1c98",
   "metadata": {},
   "source": []
  },
  {
   "cell_type": "code",
   "execution_count": null,
   "id": "ef51b4b2",
   "metadata": {},
   "outputs": [],
   "source": []
  },
  {
   "cell_type": "code",
   "execution_count": null,
   "id": "009d3a96",
   "metadata": {},
   "outputs": [],
   "source": []
  },
  {
   "cell_type": "code",
   "execution_count": null,
   "id": "a6bd4148",
   "metadata": {},
   "outputs": [],
   "source": []
  }
 ],
 "metadata": {
  "kernelspec": {
   "display_name": "Python 3 (ipykernel)",
   "language": "python",
   "name": "python3"
  },
  "language_info": {
   "codemirror_mode": {
    "name": "ipython",
    "version": 3
   },
   "file_extension": ".py",
   "mimetype": "text/x-python",
   "name": "python",
   "nbconvert_exporter": "python",
   "pygments_lexer": "ipython3",
   "version": "3.9.7"
  }
 },
 "nbformat": 4,
 "nbformat_minor": 5
}
